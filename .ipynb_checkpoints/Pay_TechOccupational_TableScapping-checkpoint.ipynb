{
 "cells": [
  {
   "cell_type": "code",
   "execution_count": 4,
   "metadata": {},
   "outputs": [],
   "source": [
    "# Dependencies for pandas table scrapping\n",
    "import pandas as pd"
   ]
  },
  {
   "cell_type": "code",
   "execution_count": 5,
   "metadata": {},
   "outputs": [],
   "source": [
    "# Computer and Information Research Scientists\n",
    "url = 'https://www.bls.gov/ooh/computer-and-information-technology/computer-and-information-research-scientists.htm#tab-5'"
   ]
  },
  {
   "cell_type": "code",
   "execution_count": 6,
   "metadata": {},
   "outputs": [
    {
     "data": {
      "text/plain": [
       "[  Quick Facts: Computer and Information Research Scientists  \\\n",
       " 0                                    2017 Median Pay          \n",
       " 1                      Typical Entry-Level Education          \n",
       " 2            Work Experience in a Related Occupation          \n",
       " 3                                On-the-job Training          \n",
       " 4                               Number of Jobs, 2016          \n",
       " 5                               Job Outlook, 2016-26          \n",
       " 6                         Employment Change, 2016-26          \n",
       " 7  SOURCE: U.S. Bureau of Labor Statistics, Emplo...          \n",
       " \n",
       "                            Unnamed: 1  \n",
       " 0  $114,520 per year  $55.06 per hour  \n",
       " 1                     Master's degree  \n",
       " 2                                None  \n",
       " 3                                None  \n",
       " 4                               27900  \n",
       " 5      19% (Much faster than average)  \n",
       " 6                                5400  \n",
       " 7                                 NaN  ,\n",
       "                                                    0    1\n",
       " 0       Federal government, excluding postal service  28%\n",
       " 1       Computer systems design and related services   20\n",
       " 2  Research and development in the physical, engi...   17\n",
       " 3  Colleges, universities, and professional schoo...    8\n",
       " 4                                Software publishers    6\n",
       " 5  SOURCE: U.S. Bureau of Labor Statistics, Emplo...  NaN,\n",
       "                                                    0         1\n",
       " 0                                Software publishers  $132,190\n",
       " 1  Research and development in the physical, engi...    125420\n",
       " 2       Computer systems design and related services    114790\n",
       " 3       Federal government, excluding postal service    108270\n",
       " 4  Colleges, universities, and professional schoo...     77240\n",
       " 5  SOURCE: U.S. Bureau of Labor Statistics, Emplo...       NaN,\n",
       "                                   Occupational Title SOC Code  \\\n",
       "                                              Percent  Numeric   \n",
       " 0       Computer and information research scientists  15-1111   \n",
       " 1  SOURCE: U.S. Bureau of Labor Statistics, Emplo...      NaN   \n",
       " \n",
       "     Employment, 2016 Projected Employment, 2026    Change, 2016-26  \\\n",
       "   Unnamed: 2_level_1         Unnamed: 3_level_1 Unnamed: 4_level_1   \n",
       " 0            27900.0                    33200.0               19.0   \n",
       " 1                NaN                        NaN                NaN   \n",
       " \n",
       "   Employment by Industry Unnamed: 6_level_0  \n",
       "       Unnamed: 5_level_1 Unnamed: 6_level_1  \n",
       " 0                 5400.0               xlsx  \n",
       " 1                    NaN                NaN  ,\n",
       "                                            Unnamed: 0  \\\n",
       " 0                                                 NaN   \n",
       " 1                                                 NaN   \n",
       " 2                                                 NaN   \n",
       " 3                                                 NaN   \n",
       " 4                                                 NaN   \n",
       " 5                                                 NaN   \n",
       " 6                                                 NaN   \n",
       " 7                                                 NaN   \n",
       " 8                                                 NaN   \n",
       " 9                                                 NaN   \n",
       " 10                                                NaN   \n",
       " 11  SOURCE: U.S. Bureau of Labor Statistics, Emplo...   \n",
       " \n",
       "                                      Occupation  \\\n",
       " 0     Computer and Information Systems Managers   \n",
       " 1                   Computer Hardware Engineers   \n",
       " 2                          Computer Programmers   \n",
       " 3                       Database Administrators   \n",
       " 4                           Software Developers   \n",
       " 5                   Computer Network Architects   \n",
       " 6                     Computer Systems Analysts   \n",
       " 7                 Information Security Analysts   \n",
       " 8   Network and Computer Systems Administrators   \n",
       " 9                                Web Developers   \n",
       " 10                               Top Executives   \n",
       " 11                                          NaN   \n",
       " \n",
       "                                            Job Duties ENTRY-LEVEL EDUCATION  \\\n",
       " 0   Computer and information systems managers, oft...     Bachelor's degree   \n",
       " 1   Computer hardware engineers research, design, ...     Bachelor's degree   \n",
       " 2   Computer programmers write and test code that ...     Bachelor's degree   \n",
       " 3   Database administrators (DBAs) use specialized...     Bachelor's degree   \n",
       " 4   Software developers are the creative minds beh...     Bachelor's degree   \n",
       " 5   Computer network architects design and build d...     Bachelor's degree   \n",
       " 6   Computer systems analysts, sometimes called sy...     Bachelor's degree   \n",
       " 7   Information security analysts plan and carry o...     Bachelor's degree   \n",
       " 8   Computer networks are critical parts of almost...     Bachelor's degree   \n",
       " 9   Web developers design and create websites. The...    Associate's degree   \n",
       " 10  Top executives devise strategies and policies ...     Bachelor's degree   \n",
       " 11                                                NaN                   NaN   \n",
       " \n",
       "    2017 MEDIAN PAY  \n",
       " 0         $139,220  \n",
       " 1         $115,120  \n",
       " 2          $82,240  \n",
       " 3          $87,020  \n",
       " 4         $103,560  \n",
       " 5         $104,650  \n",
       " 6          $88,270  \n",
       " 7          $95,510  \n",
       " 8          $81,100  \n",
       " 9          $67,990  \n",
       " 10        $104,700  \n",
       " 11             NaN  ]"
      ]
     },
     "execution_count": 6,
     "metadata": {},
     "output_type": "execute_result"
    }
   ],
   "source": [
    "tables = pd.read_html(url)\n",
    "tables"
   ]
  },
  {
   "cell_type": "code",
   "execution_count": null,
   "metadata": {},
   "outputs": [],
   "source": []
  }
 ],
 "metadata": {
  "kernelspec": {
   "display_name": "Python 3",
   "language": "python",
   "name": "python3"
  },
  "language_info": {
   "codemirror_mode": {
    "name": "ipython",
    "version": 3
   },
   "file_extension": ".py",
   "mimetype": "text/x-python",
   "name": "python",
   "nbconvert_exporter": "python",
   "pygments_lexer": "ipython3",
   "version": "3.6.7"
  }
 },
 "nbformat": 4,
 "nbformat_minor": 2
}
